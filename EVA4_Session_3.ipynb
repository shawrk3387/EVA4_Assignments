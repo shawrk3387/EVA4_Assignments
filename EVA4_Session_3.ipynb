{
  "nbformat": 4,
  "nbformat_minor": 0,
  "metadata": {
    "colab": {
      "name": "PyTorch101.ipynb",
      "provenance": [],
      "include_colab_link": true
    },
    "kernelspec": {
      "name": "python3",
      "display_name": "Python 3"
    }
  },
  "cells": [
    {
      "cell_type": "markdown",
      "metadata": {
        "id": "view-in-github",
        "colab_type": "text"
      },
      "source": [
        "<a href=\"https://colab.research.google.com/github/shawrk3387/EVA4_Assignments/blob/master/EVA4_Session_3.ipynb\" target=\"_parent\"><img src=\"https://colab.research.google.com/assets/colab-badge.svg\" alt=\"Open In Colab\"/></a>"
      ]
    },
    {
      "cell_type": "markdown",
      "metadata": {
        "id": "_kYM3ylzYo1Q",
        "colab_type": "text"
      },
      "source": [
        "![PyTorch](https://devblogs.nvidia.com/wp-content/uploads/2017/04/pytorch-logo-dark.png)\n",
        "\n",
        "An open source machine learning framework that accelerates the path from research prototyping to production deployment.\n",
        "\n"
      ]
    },
    {
      "cell_type": "markdown",
      "metadata": {
        "id": "WcVqSTrWY6oz",
        "colab_type": "text"
      },
      "source": [
        "# Tensor - Pytorch's core data structure\n",
        "\n",
        "In Python we can create lists, lists of lists, lists of lists and so on. In NumPy there is a `numpy.ndarray` which represents `n`- dimensional array. In math there is a special name for the generalization of vectors and matrices to a higher dimensional space - a tensor\n",
        "\n",
        "Tensor is an entity with a defined number of dimensions called an order (rank). \n",
        "\n",
        "**Scalar** can be considered as a rank-0-tensor. \n",
        "\n",
        "**Vector** can be introduced as a rank-1-tensor. \n",
        "\n",
        "**Matrices** can be considered as a rank-2-tensor.\n",
        "\n",
        "# Tensor Basics\n",
        "\n",
        "Let's import the torch module first."
      ]
    },
    {
      "cell_type": "code",
      "metadata": {
        "id": "e-oFVL2tYYqp",
        "colab_type": "code",
        "colab": {}
      },
      "source": [
        "import numpy as np\n",
        "import torch"
      ],
      "execution_count": 0,
      "outputs": []
    },
    {
      "cell_type": "markdown",
      "metadata": {
        "id": "uGxuR5IEaFJa",
        "colab_type": "text"
      },
      "source": [
        "## Tensor Creation\n",
        "Let's view examples of matrices and tensors generation\n",
        "\n",
        "2-dimensional (rank-2) tensor of zeros:"
      ]
    },
    {
      "cell_type": "code",
      "metadata": {
        "id": "897JQc25aD3E",
        "colab_type": "code",
        "outputId": "a77ee72b-2650-47df-f978-a33682a6dc4a",
        "colab": {
          "base_uri": "https://localhost:8080/",
          "height": 68
        }
      },
      "source": [
        "torch.zeros(3, 4)"
      ],
      "execution_count": 3,
      "outputs": [
        {
          "output_type": "execute_result",
          "data": {
            "text/plain": [
              "tensor([[0., 0., 0., 0.],\n",
              "        [0., 0., 0., 0.],\n",
              "        [0., 0., 0., 0.]])"
            ]
          },
          "metadata": {
            "tags": []
          },
          "execution_count": 3
        }
      ]
    },
    {
      "cell_type": "markdown",
      "metadata": {
        "id": "pujmpEBhaPRA",
        "colab_type": "text"
      },
      "source": [
        "Random rank-3 tensor:\n",
        "_read the print below and convince yourself how this is a rank-3-tensor and learn what those 2, 3, 4 values are there for_"
      ]
    },
    {
      "cell_type": "code",
      "metadata": {
        "id": "mBrznTNhaOL7",
        "colab_type": "code",
        "outputId": "2b07b9f7-3881-4d01-e513-8e4ee5094cb9",
        "colab": {
          "base_uri": "https://localhost:8080/",
          "height": 136
        }
      },
      "source": [
        "torch.rand(2, 3, 4)"
      ],
      "execution_count": 4,
      "outputs": [
        {
          "output_type": "execute_result",
          "data": {
            "text/plain": [
              "tensor([[[0.8650, 0.6246, 0.1304, 0.0667],\n",
              "         [0.7441, 0.7227, 0.0694, 0.6438],\n",
              "         [0.8529, 0.2764, 0.4635, 0.0122]],\n",
              "\n",
              "        [[0.0052, 0.0436, 0.2598, 0.0650],\n",
              "         [0.1561, 0.8114, 0.5840, 0.7175],\n",
              "         [0.4668, 0.8752, 0.0106, 0.8181]]])"
            ]
          },
          "metadata": {
            "tags": []
          },
          "execution_count": 4
        }
      ]
    },
    {
      "cell_type": "markdown",
      "metadata": {
        "id": "kO4fIr15asdi",
        "colab_type": "text"
      },
      "source": [
        "I am hoping you have noticed 4-elements in a row, 3 rows making one block and there are 2 blocks. \n",
        "\n",
        "Random rank-4-tensor:"
      ]
    },
    {
      "cell_type": "code",
      "metadata": {
        "id": "KiCLvMGCaVZ3",
        "colab_type": "code",
        "outputId": "653cf0dc-2afd-436d-e684-d624bc9ea7ef",
        "colab": {
          "base_uri": "https://localhost:8080/",
          "height": 221
        }
      },
      "source": [
        "torch.rand(2, 2, 2, 3)"
      ],
      "execution_count": 5,
      "outputs": [
        {
          "output_type": "execute_result",
          "data": {
            "text/plain": [
              "tensor([[[[0.1460, 0.3358, 0.0057],\n",
              "          [0.1835, 0.4734, 0.8608]],\n",
              "\n",
              "         [[0.1651, 0.9042, 0.8382],\n",
              "          [0.3167, 0.8798, 0.1201]]],\n",
              "\n",
              "\n",
              "        [[[0.9296, 0.1931, 0.6794],\n",
              "          [0.1630, 0.5578, 0.6264]],\n",
              "\n",
              "         [[0.8753, 0.7620, 0.0610],\n",
              "          [0.9640, 0.2703, 0.5199]]]])"
            ]
          },
          "metadata": {
            "tags": []
          },
          "execution_count": 5
        }
      ]
    },
    {
      "cell_type": "markdown",
      "metadata": {
        "id": "lF6VL68s3AMV",
        "colab_type": "text"
      },
      "source": [
        "## Question 1:\n",
        "\n",
        "How many dimensions are there in a tensor defined as below?\n",
        "\n",
        "Ans : 4"
      ]
    },
    {
      "cell_type": "code",
      "metadata": {
        "id": "8IbXcI3x3Ibt",
        "colab_type": "code",
        "outputId": "f6627086-5e78-4fec-af23-341e2e2d9c92",
        "colab": {
          "base_uri": "https://localhost:8080/",
          "height": 34
        }
      },
      "source": [
        "torch.rand(1, 1, 1, 1)"
      ],
      "execution_count": 29,
      "outputs": [
        {
          "output_type": "execute_result",
          "data": {
            "text/plain": [
              "tensor([[[[0.5789]]]])"
            ]
          },
          "metadata": {
            "tags": []
          },
          "execution_count": 29
        }
      ]
    },
    {
      "cell_type": "markdown",
      "metadata": {
        "id": "qmgpqssRa9jF",
        "colab_type": "text"
      },
      "source": [
        ".\n",
        "\n",
        "---\n",
        "\n",
        "\n",
        "There are many more ways to create tensor using some restrictions on values it should contatn - for the full reference, please follow the [official docs](https://pytorch.org/docs/stable/torch.html#creation-ops). \n",
        "\n",
        "\n",
        ".\n",
        "---\n",
        "\n",
        "\n",
        "# Python / NumPy / Pytorch interoperability\n",
        "\n",
        "You can create tensors from python as well as numpy arrays. You can also convert torch tensors to numpy arrays. So, the interoperability between torch and numpy is pretty good. "
      ]
    },
    {
      "cell_type": "code",
      "metadata": {
        "id": "ipgpeWPfa6gE",
        "colab_type": "code",
        "outputId": "99388aac-2eeb-4bc9-a926-f2a2f2181301",
        "colab": {
          "base_uri": "https://localhost:8080/",
          "height": 119
        }
      },
      "source": [
        "# Simple Python List\n",
        "python_list = [1, 2]\n",
        "\n",
        "# Create a numpy array from python list\n",
        "numpy_array = np.array(python_list)\n",
        "\n",
        "# Create a torch Tensor from python list\n",
        "tensor_from_list = torch.tensor(python_list)\n",
        "\n",
        "# Create a torch Tensor from Numpy array\n",
        "tensor_from_array = torch.tensor(numpy_array)\n",
        "\n",
        "# Another way to create a torch Tensor from Numpy array (share same storage)\n",
        "tensor_from_array_v2 = torch.from_numpy(numpy_array)\n",
        "\n",
        "# Convert torch tensor to numpy array\n",
        "array_from_tensor = tensor_from_array.numpy()\n",
        "\n",
        "print('List:   ', python_list)\n",
        "print('Array:  ', numpy_array)\n",
        "print('Tensor: ', tensor_from_list)\n",
        "print('Tensor: ', tensor_from_array)\n",
        "print('Tensor: ', tensor_from_array_v2)\n",
        "print('Array:  ', array_from_tensor)"
      ],
      "execution_count": 12,
      "outputs": [
        {
          "output_type": "stream",
          "text": [
            "List:    [1, 2]\n",
            "Array:   [1 2]\n",
            "Tensor:  tensor([1, 2])\n",
            "Tensor:  tensor([1, 2])\n",
            "Tensor:  tensor([1, 2])\n",
            "Array:   [1 2]\n"
          ],
          "name": "stdout"
        }
      ]
    },
    {
      "cell_type": "markdown",
      "metadata": {
        "id": "X_x-86B8gqik",
        "colab_type": "text"
      },
      "source": [
        "**Difference between** `torch.Tensor` **and** `torch.from_numpy`\n",
        "\n",
        "Pytorch aims to be an effective library for computations. What does it mean? It means that pytorch avoids memory copying if it can. "
      ]
    },
    {
      "cell_type": "code",
      "metadata": {
        "id": "eHCKDGpygn_d",
        "colab_type": "code",
        "outputId": "9d4a2409-7d5f-488c-d06b-a672c3141b76",
        "colab": {
          "base_uri": "https://localhost:8080/",
          "height": 71
        }
      },
      "source": [
        "numpy_array[0] = 10\n",
        "\n",
        "print('Array:  ', numpy_array)\n",
        "print('Tensor: ', tensor_from_array)\n",
        "print('Tensor: ', tensor_from_array_v2)"
      ],
      "execution_count": 0,
      "outputs": [
        {
          "output_type": "stream",
          "text": [
            "Array:   [10  2]\n",
            "Tensor:  tensor([1, 2])\n",
            "Tensor:  tensor([10,  2])\n"
          ],
          "name": "stdout"
        }
      ]
    },
    {
      "cell_type": "markdown",
      "metadata": {
        "id": "-CKtdNRM3SMp",
        "colab_type": "text"
      },
      "source": [
        "## Question 2:\n",
        "\n",
        "Assume that we moved our complete (cats vs dogs) image dataset to numpy arrays. Then we use torch.from_numpy to convert these images to tensor. Then we apply a specific data augmentation strategy called \"CutOut\" which blocks a portion of the image directly on these tensors. What will happen to the accuracy of a model trained on this strategy compared to the one without this strategy? CutOut strategy is shown below: \n",
        "\n",
        "![CutOut](https://encrypted-tbn0.gstatic.com/images?q=tbn%3AANd9GcSnSyN835AmtQPKQbPjDHX-FmshNilbtexX95cRGQPwl56QCGDn)\n",
        "\n",
        "Ans : Accuracy of the model should not be affected badly as the cutouts are not completely covering the objects in the image. A nicely trained model should be able to reconstruct the hidden regions as it is going to get trained on lots of images. During the process of training when the model will start constructing parts of objects from the patterns identified and eventually the object by combining the parts of objects, the hidden region should automatically gets constructed at the end.\n",
        "\n",
        "## Question 3:\n",
        "Why do you think we are observing this behavior?\n",
        "\n",
        "\n",
        "---\n",
        "\n",
        "\n"
      ]
    },
    {
      "cell_type": "markdown",
      "metadata": {
        "id": "dZq7O-aihSOA",
        "colab_type": "text"
      },
      "source": [
        "We have two different ways to create tensor from its NumPy counterpart - one copies memory and another one shares the same underlying storage. It works in the opposite way:"
      ]
    },
    {
      "cell_type": "code",
      "metadata": {
        "id": "TNFOwV8EhPwQ",
        "colab_type": "code",
        "outputId": "f71eb969-1fc7-4cc9-d5a7-86896ce9fa9d",
        "colab": {
          "base_uri": "https://localhost:8080/",
          "height": 85
        }
      },
      "source": [
        "array_from_tensor = tensor_from_array.numpy()\n",
        "print('Tensor: ', tensor_from_array)\n",
        "print('Array: ', array_from_tensor)\n",
        "\n",
        "tensor_from_array[0] = 11\n",
        "print('Tensor: ', tensor_from_array)\n",
        "print('Array: ', array_from_tensor)"
      ],
      "execution_count": 13,
      "outputs": [
        {
          "output_type": "stream",
          "text": [
            "Tensor:  tensor([1, 2])\n",
            "Array:  [1 2]\n",
            "Tensor:  tensor([11,  2])\n",
            "Array:  [11  2]\n"
          ],
          "name": "stdout"
        }
      ]
    },
    {
      "cell_type": "markdown",
      "metadata": {
        "id": "UM9ytbvKhtCw",
        "colab_type": "text"
      },
      "source": [
        "## Data types\n",
        "\n",
        "The basic data type of all Deep Learning-related operations is float, but sometimes you may need something else. Pytorch support different number types for its tensors the same way NumPy does it - by specifying the data type on tensor creation or via casting. Ths full list of supported data types can be found [here](https://pytorch.org/docs/stable/tensors.html). "
      ]
    },
    {
      "cell_type": "code",
      "metadata": {
        "id": "Bd6WkzJ4hpYi",
        "colab_type": "code",
        "outputId": "8f3beee3-0f4a-452d-d787-4d6813974541",
        "colab": {
          "base_uri": "https://localhost:8080/",
          "height": 153
        }
      },
      "source": [
        "tensor = torch.zeros(2, 2)\n",
        "print('Tensor with default type: ', tensor)\n",
        "tensor = torch.zeros(2, 2, dtype=torch.float16)\n",
        "print('Tensor with 16-bit float: ', tensor)\n",
        "tensor = torch.zeros(2, 2, dtype=torch.int16)\n",
        "print('Tensor with integers: ', tensor)\n",
        "tensor = torch.zeros(2, 2, dtype=torch.bool)\n",
        "print('Tensor with boolean data: ', tensor)"
      ],
      "execution_count": 14,
      "outputs": [
        {
          "output_type": "stream",
          "text": [
            "Tensor with default type:  tensor([[0., 0.],\n",
            "        [0., 0.]])\n",
            "Tensor with 16-bit float:  tensor([[0., 0.],\n",
            "        [0., 0.]], dtype=torch.float16)\n",
            "Tensor with integers:  tensor([[0, 0],\n",
            "        [0, 0]], dtype=torch.int16)\n",
            "Tensor with boolean data:  tensor([[False, False],\n",
            "        [False, False]])\n"
          ],
          "name": "stdout"
        }
      ]
    },
    {
      "cell_type": "markdown",
      "metadata": {
        "id": "a9F4Dkdr40TE",
        "colab_type": "text"
      },
      "source": [
        "\n",
        "\n",
        "---\n",
        "\n",
        "\n",
        "## Question 4:\n",
        "We saw above that some times numpy and tensors share same storage and changing one changes the other. \n",
        "If we define a rank-2-tensor with ones (dtype of f16), and then convert it into a numpy data type using tensor.numpy() and store it in a variable called \"num\", and then we perform this operation `num = num * 0.5`, will the original tensor have 1.0s or 0.5s as its element values?\n",
        "\n",
        "Ans : 0.5s\n"
      ]
    },
    {
      "cell_type": "markdown",
      "metadata": {
        "id": "OiQt8Mmm51OE",
        "colab_type": "text"
      },
      "source": [
        "## Question 5: \n",
        "If the operation `num = num*5` is changed to `num[:] = num*5` will the original tensor have 1.0s or 0.5s as its element values? \n",
        "\n",
        "Ans : 0.5s"
      ]
    },
    {
      "cell_type": "markdown",
      "metadata": {
        "id": "vzh8UB8KiVmb",
        "colab_type": "text"
      },
      "source": [
        "## Indexing\n",
        "\n",
        "Tensor provides access to its elements via the same `[]` operation as a regular python list or NumPy array. However, as you may recall from NumPy usage, the full power of math libraries is accessible only via vectorized operations, i.e. operations without explicit looping over all vector elements in python and using implicit optimized loops in C/C++/CUDA/Fortran/etc. available via special function calls. Pytorch employs the same paradigm and provides a wide range of vectorized operations. Let's take a look at some examples. \n",
        "\n",
        "Joining a list of tensors together with `torch.cat`"
      ]
    },
    {
      "cell_type": "code",
      "metadata": {
        "id": "GMaCDKPhiUAb",
        "colab_type": "code",
        "outputId": "bc0a7e9b-7197-402e-c826-925b38bd4a08",
        "colab": {
          "base_uri": "https://localhost:8080/",
          "height": 125
        }
      },
      "source": [
        "a = torch.zeros(3, 2)\n",
        "b = torch.ones(3, 2)\n",
        "print(torch.cat((a, b), dim=0))"
      ],
      "execution_count": 0,
      "outputs": [
        {
          "output_type": "stream",
          "text": [
            "tensor([[0., 0.],\n",
            "        [0., 0.],\n",
            "        [0., 0.],\n",
            "        [1., 1.],\n",
            "        [1., 1.],\n",
            "        [1., 1.]])\n"
          ],
          "name": "stdout"
        }
      ]
    },
    {
      "cell_type": "markdown",
      "metadata": {
        "id": "5bj4aeE86zdH",
        "colab_type": "text"
      },
      "source": [
        "\n",
        "\n",
        "---\n",
        "\n",
        "## Question 6: \n",
        "Is the transpose of concatenated a & b tensor on dimension 1, same as the contatenated tensor of a & b on dimension 0? \n",
        "\n",
        "Ans : No. Former will result a tensor of shape [2, 6] where as latter will result a tensor of shape [4, 3]\n",
        "\n",
        "---\n",
        "\n"
      ]
    },
    {
      "cell_type": "markdown",
      "metadata": {
        "id": "0TXNne69j7LP",
        "colab_type": "text"
      },
      "source": [
        "Indexing with another tenxor/array:"
      ]
    },
    {
      "cell_type": "code",
      "metadata": {
        "id": "KiE-Fsi4jVd6",
        "colab_type": "code",
        "outputId": "4d151099-547f-4308-a82c-b7a9d7091e4b",
        "colab": {
          "base_uri": "https://localhost:8080/",
          "height": 107
        }
      },
      "source": [
        "a = torch.arange(start=0, end=10)\n",
        "indices = np.arange(0, 10) > 5\n",
        "print(a)\n",
        "print(indices)\n",
        "print(a[indices])\n",
        "\n",
        "indices = torch.arange(start=0, end=10) %5\n",
        "print(indices)\n",
        "print(a[indices])"
      ],
      "execution_count": 0,
      "outputs": [
        {
          "output_type": "stream",
          "text": [
            "tensor([0, 1, 2, 3, 4, 5, 6, 7, 8, 9])\n",
            "[False False False False False False  True  True  True  True]\n",
            "tensor([6, 7, 8, 9])\n",
            "tensor([0, 1, 2, 3, 4, 0, 1, 2, 3, 4])\n",
            "tensor([0, 1, 2, 3, 4, 0, 1, 2, 3, 4])\n"
          ],
          "name": "stdout"
        }
      ]
    },
    {
      "cell_type": "markdown",
      "metadata": {
        "id": "LS4dnlu47WQu",
        "colab_type": "text"
      },
      "source": [
        "\n",
        "\n",
        "---\n",
        "\n",
        "## Question 7:\n",
        "\n",
        "`a` is defined as `torch.arange(start=0, end=10)`. We will create `b` using the two operations as below. In both cases do we get the same value?\n",
        "\n",
        "\n",
        "1.   indices variable created by the modulo operation on arange between 0 and 10. Then a new varialble `b` is created from `a` using the last 5 elements of indices. \n",
        "2.   indices variable created by the modulo operation on arange betwenn 1 and 11. Then a new varialble `b` is created from `a` using the last 5 elements of indices. \n",
        "\n",
        "Ans : No. Result from 1 is tensor([0, 1, 2, 3, 4]) and from 2 is tensor([1, 2, 3, 4, 0])\n",
        "\n",
        "---\n",
        "\n",
        "\n"
      ]
    },
    {
      "cell_type": "markdown",
      "metadata": {
        "id": "eQ4ZCVsTk-KH",
        "colab_type": "text"
      },
      "source": [
        "What should we do if we have, say, rank-2-tensor and want to select only some rows?"
      ]
    },
    {
      "cell_type": "code",
      "metadata": {
        "id": "_GtRpotjkt1q",
        "colab_type": "code",
        "outputId": "89ba8b02-10d3-4c37-982a-3ef4b05be946",
        "colab": {
          "base_uri": "https://localhost:8080/",
          "height": 143
        }
      },
      "source": [
        "tensor = torch.rand((5, 3))\n",
        "rows = torch.tensor([0, 2])\n",
        "print(tensor)\n",
        "tensor[rows]"
      ],
      "execution_count": 0,
      "outputs": [
        {
          "output_type": "stream",
          "text": [
            "tensor([[0.6657, 0.7041, 0.4038],\n",
            "        [0.1543, 0.4606, 0.1103],\n",
            "        [0.6704, 0.6282, 0.1762],\n",
            "        [0.7504, 0.6413, 0.5980],\n",
            "        [0.0452, 0.2649, 0.7961]])\n"
          ],
          "name": "stdout"
        },
        {
          "output_type": "execute_result",
          "data": {
            "text/plain": [
              "tensor([[0.6657, 0.7041, 0.4038],\n",
              "        [0.6704, 0.6282, 0.1762]])"
            ]
          },
          "metadata": {
            "tags": []
          },
          "execution_count": 71
        }
      ]
    },
    {
      "cell_type": "markdown",
      "metadata": {
        "id": "zIJnr_N2_Qaf",
        "colab_type": "text"
      },
      "source": [
        "\n",
        "\n",
        "---\n",
        "\n",
        "## Question 8: \n",
        "\n",
        "Consider a tensor defined as `torch.rand((6, 5))`. Is the shape of the new tensor created by taking the 0th, 2nd and 4th row of the old tensor same as the shape of the a newer tensor created by taking the 0th, 2nd and 4th row of the old tensor after transposing it by operation `torch.transpose(tensor, 0, 1)` ?\n",
        "\n",
        "Ans : No\n",
        "\n",
        "---\n",
        "\n",
        "\n"
      ]
    },
    {
      "cell_type": "markdown",
      "metadata": {
        "id": "naDzFMkslU0b",
        "colab_type": "text"
      },
      "source": [
        "## Tensor Shapes\n",
        "\n",
        "Reshaping a tensor is a frequently used operation. We can change the shape of a tensor without the memory copying overhead. There are two methods for that: `reshape` and `view`. \n",
        "\n",
        "The difference is the following: \n",
        "\n",
        "\n",
        "*   view tries to return a tensor, and it shares the same memory with the original tensor. In case, if it cannot reuse the same memory due to [some reason](https://pytorch.org/docs/stable/tensors.html?highlight=view#torch.Tensor.view), it just fails. \n",
        "*   reshape always returns the tensor with the desired shape and tries to reuse the memory. If it cannot, it creates a copy\n",
        "\n",
        "Let's see with the help of an example:"
      ]
    },
    {
      "cell_type": "code",
      "metadata": {
        "id": "HClDkqLLlMJh",
        "colab_type": "code",
        "outputId": "8eb0fbe4-26cb-4fd8-efd1-ca316eba8b68",
        "colab": {
          "base_uri": "https://localhost:8080/",
          "height": 170
        }
      },
      "source": [
        "tensor = torch.rand(2, 3, 4)\n",
        "print('Pointer to data: ', tensor.data_ptr())\n",
        "print('Shape: ', tensor.shape)\n",
        "\n",
        "reshaped = tensor.reshape(24)\n",
        "\n",
        "view = tensor.view(3, 2, 4)\n",
        "print('Reshaped tensor - pointer to data', reshaped.data_ptr())\n",
        "print('Reshaped tensor shape ', reshaped.shape)\n",
        "\n",
        "print('Viewed tensor - pointer to data', view.data_ptr())\n",
        "print('Viewed tensor shape ', view.shape)\n",
        "\n",
        "assert tensor.data_ptr() == view.data_ptr()\n",
        "\n",
        "assert np.all(np.equal(tensor.numpy().flat, reshaped.numpy().flat))\n",
        "\n",
        "print('Original stride: ', tensor.stride())\n",
        "print('Reshaped stride: ', reshaped.stride())\n",
        "print('Viewed stride: ', view.stride())"
      ],
      "execution_count": 15,
      "outputs": [
        {
          "output_type": "stream",
          "text": [
            "Pointer to data:  102490752\n",
            "Shape:  torch.Size([2, 3, 4])\n",
            "Reshaped tensor - pointer to data 102490752\n",
            "Reshaped tensor shape  torch.Size([24])\n",
            "Viewed tensor - pointer to data 102490752\n",
            "Viewed tensor shape  torch.Size([3, 2, 4])\n",
            "Original stride:  (12, 4, 1)\n",
            "Reshaped stride:  (1,)\n",
            "Viewed stride:  (8, 4, 1)\n"
          ],
          "name": "stdout"
        }
      ]
    },
    {
      "cell_type": "markdown",
      "metadata": {
        "id": "jIN5jSppm4yC",
        "colab_type": "text"
      },
      "source": [
        "The basic rule about reshaping the tensor is definitely that you cannot change the total number of elements in it, so the product of all tensor's dimensions should always be the same. It gives us the ability to avoid specifying one dimension when reshaping the tensor - Pytorch can calculate it for us:"
      ]
    },
    {
      "cell_type": "code",
      "metadata": {
        "id": "e3D19ERFmzOl",
        "colab_type": "code",
        "outputId": "70cedede-5b82-4839-a56e-eaa9c7e48d58",
        "colab": {
          "base_uri": "https://localhost:8080/",
          "height": 68
        }
      },
      "source": [
        "print(tensor.reshape(3, 2, 4).shape)\n",
        "print(tensor.reshape(3, 2, -1).shape)\n",
        "print(tensor.reshape(3, -1, 4).shape)"
      ],
      "execution_count": 16,
      "outputs": [
        {
          "output_type": "stream",
          "text": [
            "torch.Size([3, 2, 4])\n",
            "torch.Size([3, 2, 4])\n",
            "torch.Size([3, 2, 4])\n"
          ],
          "name": "stdout"
        }
      ]
    },
    {
      "cell_type": "markdown",
      "metadata": {
        "id": "ObgCQKUiETak",
        "colab_type": "text"
      },
      "source": [
        "\n",
        "\n",
        "---\n",
        "\n",
        "\n",
        "## Question 9:\n",
        "\n",
        "Consider a tensor `a` created with [1, 2, 3] and [1, 2, 3] of size (2, 3) is reshaped with operation `.reshape(-1, 2)`. Also consider a tensor `b` created with [[2, 1]] and of size (1, 2), later operated with `view(2, -1)` operation. \n",
        "\n",
        "If we do a dot product of a and b (using `torch.mm`) and perform the sum of all the elements (using `torch.sum`) what do we get? (enter int value without any decimal point in the quiz)\n",
        "\n",
        "Ans : tensor(18)\n",
        "\n",
        "---\n",
        "\n"
      ]
    },
    {
      "cell_type": "markdown",
      "metadata": {
        "id": "mza7QPg3ndeV",
        "colab_type": "text"
      },
      "source": [
        "**Alternative ways to view tensors** - `expand` or `expand_as`.\n",
        "\n",
        "\n",
        "\n",
        "*   `expand` - requires the desired shape as an input\n",
        "*   `expand_as` - uses the shape of another tensor\n",
        "\n",
        "These operations \"repeat\" tensor's values along the specified axes without actually copying the data. \n",
        "\n",
        "As the documentation says, expand:\n",
        "\n",
        "\n",
        "> returns a new view of the self tensor with singleton dimensions expanded to a larger size. Tensor can be also expanded to a larger number of dimensions, and the new ones will be appended at the front. For the new dimensions, the size cannot be set to -1. \n",
        "\n",
        "**Use case:**\n",
        "\n",
        "\n",
        "\n",
        "*   index multi-channel tensor with single-channel mask - imagine a color image with 3 channels (RGB) and binary mask for the area of interest on that image. We cannot index the image with this kind of mask directly since the dimensions are different, but we can use `expand_as` operation to create a view of the mask that has the same dimensions as the image we want to apply it to, but has not copied the data. "
      ]
    },
    {
      "cell_type": "code",
      "metadata": {
        "id": "iz33E-V7nPQT",
        "colab_type": "code",
        "outputId": "691f82db-5541-43d6-ce2a-9ef0c6b4eb51",
        "colab": {
          "base_uri": "https://localhost:8080/",
          "height": 595
        }
      },
      "source": [
        "%matplotlib inline\n",
        "from matplotlib import pyplot as plt\n",
        "\n",
        "# Create a black image\n",
        "image = torch.zeros(size=(3, 256, 256), dtype=torch.int)\n",
        "\n",
        "# Leave the borders and make the rest of the image Green\n",
        "image[1, 18:256 - 18, 18:256 - 18] = 255\n",
        "\n",
        "# Create a mask of the same size\n",
        "mask = torch.zeros(size=(256, 256), dtype=torch.bool)\n",
        "\n",
        "# Assuming the green region in the original image is the Region of interest, change the mask to white for that area\n",
        "mask[18:256 - 18, 18:256 - 18] = 1\n",
        "\n",
        "# Create a view of the mask with the same dimensions as the original image\n",
        "mask_expanded = mask.expand_as(image)\n",
        "print(mask_expanded.shape)\n",
        "\n",
        "mask_np = mask_expanded.numpy().transpose(1, 2, 0) * 255\n",
        "image_np = image.numpy().transpose(1, 2, 0)\n",
        "\n",
        "fig, ax = plt.subplots(1, 2)\n",
        "ax[0].imshow(image_np)\n",
        "ax[1].imshow(mask_np)\n",
        "plt.show()\n",
        "\n",
        "image[0, mask] += 128\n",
        "fig, ax = plt.subplots(1, 2)\n",
        "ax[0].imshow(image_np)\n",
        "ax[1].imshow(mask_np)\n",
        "plt.show()\n",
        "\n",
        "image[mask_expanded] += 128\n",
        "image.clamp_(0, 255)\n",
        "fig, ax = plt.subplots(1, 2)\n",
        "ax[0].imshow(image_np)\n",
        "ax[1].imshow(mask_np)\n",
        "plt.show()"
      ],
      "execution_count": 17,
      "outputs": [
        {
          "output_type": "stream",
          "text": [
            "torch.Size([3, 256, 256])\n"
          ],
          "name": "stdout"
        },
        {
          "output_type": "display_data",
          "data": {
            "image/png": "[encoded data removed]",
            "text/plain": [
              "<Figure size 432x288 with 2 Axes>"
            ]
          },
          "metadata": {
            "tags": []
          }
        },
        {
          "output_type": "display_data",
          "data": {
            "image/png": "[encoded data removed]",
            "text/plain": [
              "<Figure size 432x288 with 2 Axes>"
            ]
          },
          "metadata": {
            "tags": []
          }
        },
        {
          "output_type": "display_data",
          "data": {
            "image/png": "[encoded data removed]",
            "text/plain": [
              "<Figure size 432x288 with 2 Axes>"
            ]
          },
          "metadata": {
            "tags": []
          }
        }
      ]
    },
    {
      "cell_type": "markdown",
      "metadata": {
        "id": "jiXBx0k3ptOI",
        "colab_type": "text"
      },
      "source": [
        "In the example above, one can also find a couple of useful tricks:\n",
        "\n",
        "\n",
        "*   `clamp` method and function is a Pytorch's analogue of NumPy's `clip` function\n",
        "*   many operations on tensors have in-place form, that does not return modified data, but change values in the tensor. The in-place version of the operation has trailing underscore according to Pytorch's naming convension - in the exmaple above it is `clamp_`\n",
        "*   tensors have the same indexing as Numpy's arrays - one can use `:` seperated range, negative indexes and so on.\n",
        "\n",
        "\n",
        ".\n",
        "\n",
        "\n",
        "---\n",
        "\n",
        "# Images and their representations\n",
        "\n",
        "Now, let's discuss images, their representations and how different Python librarties work with them. \n",
        "\n",
        "Probably, the most well-known library for image loading and simple processing is [Pillow](https://pillow.readthedocs.io/en/stable/). \n",
        "\n",
        "However, many people in deep learning area stick with OpenCV for image loading and processing with some usage of another libraries when it is justified by performance/functionality. This is because OpenCV is in general much faster than the other libraries. Here you can find a couple of benchmarks: \n",
        "\n",
        "*   https://www.kaggle.com/zfturbo/benchmark-2019-speed-of-image-reading\n",
        "*   https://github.com/albumentations-team/albumentations#benchmarking-results\n",
        "\n",
        "To sum up the benchmarks above, there are two most common image formats, PNG and JPEGs. If your data is in PNG format - use OpenCV to read it. If it is in JPEG - use libturbojpeg. For image processing, use OpenCV if possible. _We will be using PIL a lot along with these._\n",
        "\n",
        "As you will read the code from others, you may find out that some of them use Pillow/something else to read data. You should know, that color image representations in OpenCV and other libraries are different - OpenCV uses \"BGR\" channel order, while others use \"RGB\" one. \n",
        "\n",
        "To change \"BRG\" <-> \"RGB\" the only thing we need to do it to change channel order."
      ]
    },
    {
      "cell_type": "code",
      "metadata": {
        "id": "ZYv4sZMmpndu",
        "colab_type": "code",
        "outputId": "759d55f7-6a82-45ea-959d-8b960b1f5754",
        "colab": {
          "base_uri": "https://localhost:8080/",
          "height": 231
        }
      },
      "source": [
        "%matplotlib inline\n",
        "from matplotlib import pyplot as plt\n",
        "import cv2\n",
        "\n",
        "\n",
        "bgr_image = cv2.imread('mars.jpg') \n",
        "# remember to add your own image in case you run this block, if you want to use the same image, \n",
        "# download it from: https://encrypted-tbn0.gstatic.com/images?q=tbn%3AANd9GcRCA40ftnscVzfV8ft8e7vIzQXfXeZdtco8nknJrfCUW6INI40U\n",
        "rgb_image = bgr_image[..., ::-1]\n",
        "fig, ax = plt.subplots(1, 2)\n",
        "ax[0].imshow(bgr_image)\n",
        "ax[1].imshow(rgb_image)\n",
        "plt.show()"
      ],
      "execution_count": 18,
      "outputs": [
        {
          "output_type": "error",
          "ename": "TypeError",
          "evalue": "ignored",
          "traceback": [
            "\u001b[0;31m---------------------------------------------------------------------------\u001b[0m",
            "\u001b[0;31mTypeError\u001b[0m                                 Traceback (most recent call last)",
            "\u001b[0;32m<ipython-input-18-72c49219a822>\u001b[0m in \u001b[0;36m<module>\u001b[0;34m()\u001b[0m\n\u001b[1;32m      7\u001b[0m \u001b[0;31m# remember to add your own image in case you run this block, if you want to use the same image,\u001b[0m\u001b[0;34m\u001b[0m\u001b[0;34m\u001b[0m\u001b[0;34m\u001b[0m\u001b[0m\n\u001b[1;32m      8\u001b[0m \u001b[0;31m# download it from: https://encrypted-tbn0.gstatic.com/images?q=tbn%3AANd9GcRCA40ftnscVzfV8ft8e7vIzQXfXeZdtco8nknJrfCUW6INI40U\u001b[0m\u001b[0;34m\u001b[0m\u001b[0;34m\u001b[0m\u001b[0;34m\u001b[0m\u001b[0m\n\u001b[0;32m----> 9\u001b[0;31m \u001b[0mrgb_image\u001b[0m \u001b[0;34m=\u001b[0m \u001b[0mbgr_image\u001b[0m\u001b[0;34m[\u001b[0m\u001b[0;34m...\u001b[0m\u001b[0;34m,\u001b[0m \u001b[0;34m:\u001b[0m\u001b[0;34m:\u001b[0m\u001b[0;34m-\u001b[0m\u001b[0;36m1\u001b[0m\u001b[0;34m]\u001b[0m\u001b[0;34m\u001b[0m\u001b[0;34m\u001b[0m\u001b[0m\n\u001b[0m\u001b[1;32m     10\u001b[0m \u001b[0mfig\u001b[0m\u001b[0;34m,\u001b[0m \u001b[0max\u001b[0m \u001b[0;34m=\u001b[0m \u001b[0mplt\u001b[0m\u001b[0;34m.\u001b[0m\u001b[0msubplots\u001b[0m\u001b[0;34m(\u001b[0m\u001b[0;36m1\u001b[0m\u001b[0;34m,\u001b[0m \u001b[0;36m2\u001b[0m\u001b[0;34m)\u001b[0m\u001b[0;34m\u001b[0m\u001b[0;34m\u001b[0m\u001b[0m\n\u001b[1;32m     11\u001b[0m \u001b[0max\u001b[0m\u001b[0;34m[\u001b[0m\u001b[0;36m0\u001b[0m\u001b[0;34m]\u001b[0m\u001b[0;34m.\u001b[0m\u001b[0mimshow\u001b[0m\u001b[0;34m(\u001b[0m\u001b[0mbgr_image\u001b[0m\u001b[0;34m)\u001b[0m\u001b[0;34m\u001b[0m\u001b[0;34m\u001b[0m\u001b[0m\n",
            "\u001b[0;31mTypeError\u001b[0m: 'NoneType' object is not subscriptable"
          ]
        }
      ]
    },
    {
      "cell_type": "markdown",
      "metadata": {
        "id": "yoi4TeNBGHle",
        "colab_type": "text"
      },
      "source": [
        "\n",
        "\n",
        "---\n",
        "\n",
        "## Question 10:\n",
        "\n",
        "Looking at the results above it can be said that the pixel values in the blue channels would be very small compared to red channel. True/False?\n",
        "\n",
        "Ans : False\n",
        "---\n",
        "\n",
        "\n"
      ]
    },
    {
      "cell_type": "markdown",
      "metadata": {
        "id": "b3ugFd57zNwa",
        "colab_type": "text"
      },
      "source": [
        "# Autograd\n",
        "\n",
        "Pytorch supports automatic differentiation. The module which implements this is called **AutoGrad**. It calculates the gradients and keeps track in forward and backward passes. For primitive tensors, you need to enable or disable it using the `required_grad` flag. But, for advanced tensors, it is enabled by default"
      ]
    },
    {
      "cell_type": "code",
      "metadata": {
        "id": "VMOp4aiou6JR",
        "colab_type": "code",
        "outputId": "cbd183d4-a1d7-4f48-bd62-ce617ba19da3",
        "colab": {
          "base_uri": "https://localhost:8080/",
          "height": 187
        }
      },
      "source": [
        "a = torch.rand((3, 5), requires_grad = True)\n",
        "print(a)\n",
        "result = a * 5\n",
        "print(result)\n",
        "\n",
        "# grad can be implicitly created only for scalar outputs\n",
        "# so let's calculate the sum here so that the output becomes a scalar and we can apply a backward pass\n",
        "mean_result = result.sum()\n",
        "print(mean_result)\n",
        "# calculate gradient\n",
        "mean_result.backward()\n",
        "# print gradient of a\n",
        "print(a.grad)"
      ],
      "execution_count": 19,
      "outputs": [
        {
          "output_type": "stream",
          "text": [
            "tensor([[0.1913, 0.1326, 0.8206, 0.5051, 0.4769],\n",
            "        [0.3825, 0.9793, 0.8428, 0.4621, 0.1053],\n",
            "        [0.2516, 0.2140, 0.8203, 0.2553, 0.3301]], requires_grad=True)\n",
            "tensor([[0.9563, 0.6630, 4.1032, 2.5257, 2.3846],\n",
            "        [1.9125, 4.8963, 4.2138, 2.3104, 0.5264],\n",
            "        [1.2579, 1.0699, 4.1015, 1.2766, 1.6506]], grad_fn=<MulBackward0>)\n",
            "tensor(33.8490, grad_fn=<SumBackward0>)\n",
            "tensor([[5., 5., 5., 5., 5.],\n",
            "        [5., 5., 5., 5., 5.],\n",
            "        [5., 5., 5., 5., 5.]])\n"
          ],
          "name": "stdout"
        }
      ]
    },
    {
      "cell_type": "markdown",
      "metadata": {
        "id": "ym0Amk2IGfLx",
        "colab_type": "text"
      },
      "source": [
        "\n",
        "\n",
        "---\n",
        "\n",
        "## Question 11: \n",
        "\n",
        "Why the gradient of a is all 5s above?\n",
        "\n",
        "Ans : There were two operations going on the tensor - sum and product. During backprop, gradient of the output coming from sum will be calculated and it will be a tensor of 1's. Next the gradient of the product will be calculated and it will be a tensor of 5's. Final gradient will be a product of the resulting gradients (1's and 5's) and it will give a tensor of 5's. \n",
        "\n",
        "---\n",
        "\n"
      ]
    },
    {
      "cell_type": "markdown",
      "metadata": {
        "id": "7PDgGq2R0k7I",
        "colab_type": "text"
      },
      "source": [
        "As we see, Pytorch automagically calculated the gradient value for us. It looks to be the correct value - we multiplied an input by 5, so the gradient of this operation equals to 5.\n",
        "\n",
        "# Disabling Autograd for tensors\n",
        "\n",
        "We don't need to compute gradients for all the variables that are involved in the pipeline. The Pytorch API provides 2 ways to disable autograd.\n",
        "\n",
        "`detach` - returns a copy of the tensor with autograd disabled. This \n",
        "\n",
        "1.   copy is built on the same memory as the original tensor, so in-place size / stride / storage changes (such as resize_ / resizeas / set / transpose) modifications are not allowed.\n",
        "2.   torch.no_grad() - It is a context manager that allows you to guard a series of operations from autograd without creating new tensors."
      ]
    },
    {
      "cell_type": "code",
      "metadata": {
        "id": "yqVG9fQb0cLW",
        "colab_type": "code",
        "outputId": "79f38c7d-1859-42f0-ca7a-fbebaa750e70",
        "colab": {
          "base_uri": "https://localhost:8080/",
          "height": 68
        }
      },
      "source": [
        "a = torch.rand((3, 5), requires_grad=True)\n",
        "detached_a = a.detach()\n",
        "detached_result = detached_a * 5\n",
        "result = a * 10\n",
        "# we cannot do backward pass that is required for autograd using multideminsional output,\n",
        "# so let's calculate the sum here\n",
        "mean_result = result.sum()\n",
        "mean_result.backward()\n",
        "a.grad"
      ],
      "execution_count": 20,
      "outputs": [
        {
          "output_type": "execute_result",
          "data": {
            "text/plain": [
              "tensor([[10., 10., 10., 10., 10.],\n",
              "        [10., 10., 10., 10., 10.],\n",
              "        [10., 10., 10., 10., 10.]])"
            ]
          },
          "metadata": {
            "tags": []
          },
          "execution_count": 20
        }
      ]
    },
    {
      "cell_type": "code",
      "metadata": {
        "id": "uqpch2Be02J7",
        "colab_type": "code",
        "outputId": "0a5ee8e8-81b8-46f0-c7fc-ac406657e928",
        "colab": {
          "base_uri": "https://localhost:8080/",
          "height": 71
        }
      },
      "source": [
        "a = torch.rand((3, 5), requires_grad=True)\n",
        "with torch.no_grad():\n",
        "    detached_result = a * 5\n",
        "result = a * 10\n",
        "# we cannot do backward pass that is required for autograd using multideminsional output,\n",
        "# so let's calculate the sum here\n",
        "mean_result = result.sum()\n",
        "mean_result.backward()\n",
        "a.grad"
      ],
      "execution_count": 0,
      "outputs": [
        {
          "output_type": "execute_result",
          "data": {
            "text/plain": [
              "tensor([[10., 10., 10., 10., 10.],\n",
              "        [10., 10., 10., 10., 10.],\n",
              "        [10., 10., 10., 10., 10.]])"
            ]
          },
          "metadata": {
            "tags": []
          },
          "execution_count": 38
        }
      ]
    },
    {
      "cell_type": "markdown",
      "metadata": {
        "id": "vjh2rYOPJUAZ",
        "colab_type": "text"
      },
      "source": [
        "# Custom Network\n",
        "\n",
        "A fully-connected ReLU network with one hidden layer and no biases, trained to predict y from x by minimizing squared Euclidean distance.\n",
        "\n",
        "This implementation uses PyTorch tensors to manually compute the forward pass, loss, and backward pass.\n",
        "\n",
        "A PyTorch Tensor is basically the same as a numpy array: it does not know anything about deep learning or computational graphs or gradients, and is just a generic n-dimensional array to be used for arbitrary numeric computation.\n",
        "\n",
        "The biggest difference between a numpy array and a PyTorch Tensor is that a PyTorch Tensor can run on either CPU or GPU. To run operations on the GPU, just cast the Tensor to a cuda datatype."
      ]
    },
    {
      "cell_type": "code",
      "metadata": {
        "id": "0nf5RaB104Vp",
        "colab_type": "code",
        "outputId": "67b933a1-a3ce-4859-f591-45f98e0918a6",
        "colab": {
          "base_uri": "https://localhost:8080/",
          "height": 1000
        }
      },
      "source": [
        "dtype = torch.float\n",
        "device = torch.device(\"cpu\")\n",
        "# device = torch.device(\"cuda:0\") # Uncomment this to run on GPU\n",
        "\n",
        "# N is batch size; D_in is input dimension;\n",
        "# H is hidden dimension; D_out is output dimension.\n",
        "N, D_in, H, D_out = 64, 1000, 100, 10\n",
        "\n",
        "# Create random input and output data\n",
        "x = torch.randn(N, D_in, device=device, dtype=dtype)\n",
        "y = torch.randn(N, D_out, device=device, dtype=dtype)\n",
        "\n",
        "# Randomly initialize weights\n",
        "w1 = torch.randn(D_in, H, device=device, dtype=dtype)\n",
        "w2 = torch.randn(H, D_out, device=device, dtype=dtype)\n",
        "\n",
        "learning_rate = 1e-6\n",
        "for t in range(500):\n",
        "    # Forward pass: compute predicted y\n",
        "    h = x.mm(w1)\n",
        "    h_relu = h.clamp(min=0)\n",
        "    y_pred = h_relu.mm(w2)\n",
        "\n",
        "    # Compute and print loss\n",
        "    loss = (y_pred - y).pow(2).sum().item()\n",
        "    print(t, loss)\n",
        "\n",
        "    # Backprop to compute gradients of w1 and w2 with respect to loss\n",
        "    grad_y_pred = 2*(y_pred - y)\n",
        "    grad_w2 = h_relu.t().mm(grad_y_pred)\n",
        "    grad_h_relu = grad_y_pred.mm(w2.t())\n",
        "    grad_h = grad_h_relu.clone()\n",
        "    grad_h[h < 0] = 0\n",
        "    grad_w1 = x.t().mm(grad_h)\n",
        "\n",
        "    # Update weights using gradient descent\n",
        "    w1 -= learning_rate * grad_w1\n",
        "    w2 -= learning_rate * grad_w2"
      ],
      "execution_count": 31,
      "outputs": [
        {
          "output_type": "stream",
          "text": [
            "0 24387182.0\n",
            "1 17669398.0\n",
            "2 14807189.0\n",
            "3 13340463.0\n",
            "4 12224217.0\n",
            "5 10927611.0\n",
            "6 9344799.0\n",
            "7 7560950.0\n",
            "8 5830709.5\n",
            "9 4327766.5\n",
            "10 3141869.0\n",
            "11 2262075.25\n",
            "12 1636042.0\n",
            "13 1198387.75\n",
            "14 896030.8125\n",
            "15 685846.0\n",
            "16 538095.25\n",
            "17 432147.03125\n",
            "18 354631.4375\n",
            "19 296466.9375\n",
            "20 251725.34375\n",
            "21 216464.265625\n",
            "22 188087.78125\n",
            "23 164812.8125\n",
            "24 145400.3125\n",
            "25 128993.7109375\n",
            "26 114988.375\n",
            "27 102913.828125\n",
            "28 92422.3203125\n",
            "29 83240.8359375\n",
            "30 75159.1171875\n",
            "31 68012.9296875\n",
            "32 61679.484375\n",
            "33 56042.03515625\n",
            "34 51005.7265625\n",
            "35 46496.0078125\n",
            "36 42448.79296875\n",
            "37 38808.95703125\n",
            "38 35530.92578125\n",
            "39 32570.65625\n",
            "40 29892.41015625\n",
            "41 27465.078125\n",
            "42 25261.861328125\n",
            "43 23259.62890625\n",
            "44 21437.673828125\n",
            "45 19776.720703125\n",
            "46 18260.548828125\n",
            "47 16875.82421875\n",
            "48 15608.935546875\n",
            "49 14448.205078125\n",
            "50 13384.71484375\n",
            "51 12408.8203125\n",
            "52 11511.94921875\n",
            "53 10687.703125\n",
            "54 9929.0107421875\n",
            "55 9230.0361328125\n",
            "56 8585.515625\n",
            "57 7990.7158203125\n",
            "58 7441.48828125\n",
            "59 6933.81640625\n",
            "60 6464.27294921875\n",
            "61 6029.603515625\n",
            "62 5627.0048828125\n",
            "63 5253.6181640625\n",
            "64 4907.3076171875\n",
            "65 4586.0859375\n",
            "66 4287.791015625\n",
            "67 4010.626708984375\n",
            "68 3752.854248046875\n",
            "69 3513.12548828125\n",
            "70 3289.86865234375\n",
            "71 3081.985595703125\n",
            "72 2888.272216796875\n",
            "73 2707.87451171875\n",
            "74 2539.59619140625\n",
            "75 2382.695556640625\n",
            "76 2236.408935546875\n",
            "77 2099.844970703125\n",
            "78 1972.1890869140625\n",
            "79 1852.83349609375\n",
            "80 1741.185546875\n",
            "81 1636.7159423828125\n",
            "82 1538.939453125\n",
            "83 1447.3690185546875\n",
            "84 1361.57763671875\n",
            "85 1281.2181396484375\n",
            "86 1205.8814697265625\n",
            "87 1135.2230224609375\n",
            "88 1068.9505615234375\n",
            "89 1006.77978515625\n",
            "90 948.4246826171875\n",
            "91 893.654052734375\n",
            "92 842.2122802734375\n",
            "93 793.8848876953125\n",
            "94 748.5204467773438\n",
            "95 705.8777465820312\n",
            "96 665.7931518554688\n",
            "97 628.0838623046875\n",
            "98 592.6172485351562\n",
            "99 559.272705078125\n",
            "100 527.9016723632812\n",
            "101 498.3678283691406\n",
            "102 470.5685119628906\n",
            "103 444.38275146484375\n",
            "104 419.71405029296875\n",
            "105 396.4707946777344\n",
            "106 374.5776672363281\n",
            "107 353.9414978027344\n",
            "108 334.4854431152344\n",
            "109 316.1527099609375\n",
            "110 298.8644104003906\n",
            "111 282.551513671875\n",
            "112 267.16064453125\n",
            "113 252.6458740234375\n",
            "114 238.94338989257812\n",
            "115 226.01353454589844\n",
            "116 213.81173706054688\n",
            "117 202.29498291015625\n",
            "118 191.4192352294922\n",
            "119 181.14584350585938\n",
            "120 171.44570922851562\n",
            "121 162.28277587890625\n",
            "122 153.6244354248047\n",
            "123 145.44442749023438\n",
            "124 137.71363830566406\n",
            "125 130.4080352783203\n",
            "126 123.50127410888672\n",
            "127 116.97171020507812\n",
            "128 110.79963684082031\n",
            "129 104.96475219726562\n",
            "130 99.44831848144531\n",
            "131 94.22575378417969\n",
            "132 89.28689575195312\n",
            "133 84.61666107177734\n",
            "134 80.19802856445312\n",
            "135 76.01559448242188\n",
            "136 72.05830383300781\n",
            "137 68.31260681152344\n",
            "138 64.76763916015625\n",
            "139 61.411746978759766\n",
            "140 58.2349853515625\n",
            "141 55.22735595703125\n",
            "142 52.37917709350586\n",
            "143 49.681365966796875\n",
            "144 47.12608337402344\n",
            "145 44.705963134765625\n",
            "146 42.41409683227539\n",
            "147 40.243743896484375\n",
            "148 38.18632888793945\n",
            "149 36.236236572265625\n",
            "150 34.39031219482422\n",
            "151 32.63877868652344\n",
            "152 30.978557586669922\n",
            "153 29.4066104888916\n",
            "154 27.91595458984375\n",
            "155 26.502702713012695\n",
            "156 25.162527084350586\n",
            "157 23.892715454101562\n",
            "158 22.687763214111328\n",
            "159 21.545562744140625\n",
            "160 20.462299346923828\n",
            "161 19.43455696105957\n",
            "162 18.459091186523438\n",
            "163 17.533878326416016\n",
            "164 16.656959533691406\n",
            "165 15.82491683959961\n",
            "166 15.035001754760742\n",
            "167 14.285524368286133\n",
            "168 13.574241638183594\n",
            "169 12.899645805358887\n",
            "170 12.259657859802246\n",
            "171 11.650829315185547\n",
            "172 11.073919296264648\n",
            "173 10.526165008544922\n",
            "174 10.005773544311523\n",
            "175 9.51205062866211\n",
            "176 9.043218612670898\n",
            "177 8.597601890563965\n",
            "178 8.174811363220215\n",
            "179 7.77272891998291\n",
            "180 7.391676902770996\n",
            "181 7.02897834777832\n",
            "182 6.685154914855957\n",
            "183 6.358177185058594\n",
            "184 6.047794342041016\n",
            "185 5.752411842346191\n",
            "186 5.471976280212402\n",
            "187 5.205451965332031\n",
            "188 4.952378749847412\n",
            "189 4.711888790130615\n",
            "190 4.483310699462891\n",
            "191 4.265860080718994\n",
            "192 4.059263229370117\n",
            "193 3.8631157875061035\n",
            "194 3.676302433013916\n",
            "195 3.4988412857055664\n",
            "196 3.330216646194458\n",
            "197 3.169760227203369\n",
            "198 3.01737642288208\n",
            "199 2.8721585273742676\n",
            "200 2.734048843383789\n",
            "201 2.6030166149139404\n",
            "202 2.4781720638275146\n",
            "203 2.359734058380127\n",
            "204 2.2467586994171143\n",
            "205 2.1395435333251953\n",
            "206 2.0372865200042725\n",
            "207 1.940244436264038\n",
            "208 1.847797155380249\n",
            "209 1.759606957435608\n",
            "210 1.6760400533676147\n",
            "211 1.5966095924377441\n",
            "212 1.5206959247589111\n",
            "213 1.448486566543579\n",
            "214 1.3800643682479858\n",
            "215 1.314575433731079\n",
            "216 1.2523880004882812\n",
            "217 1.193231225013733\n",
            "218 1.13712739944458\n",
            "219 1.08338463306427\n",
            "220 1.0324305295944214\n",
            "221 0.9837349653244019\n",
            "222 0.9374986886978149\n",
            "223 0.8934066891670227\n",
            "224 0.8514643311500549\n",
            "225 0.8114594221115112\n",
            "226 0.7734436988830566\n",
            "227 0.7373465299606323\n",
            "228 0.7028196454048157\n",
            "229 0.6699938178062439\n",
            "230 0.638678252696991\n",
            "231 0.6088019609451294\n",
            "232 0.5804752111434937\n",
            "233 0.553448498249054\n",
            "234 0.5276128053665161\n",
            "235 0.5031437873840332\n",
            "236 0.47978371381759644\n",
            "237 0.4573681950569153\n",
            "238 0.4362131357192993\n",
            "239 0.4159894585609436\n",
            "240 0.3967255651950836\n",
            "241 0.3783528208732605\n",
            "242 0.36089515686035156\n",
            "243 0.34421759843826294\n",
            "244 0.32831892371177673\n",
            "245 0.3131328225135803\n",
            "246 0.29878509044647217\n",
            "247 0.28497323393821716\n",
            "248 0.27178797125816345\n",
            "249 0.25928157567977905\n",
            "250 0.24741417169570923\n",
            "251 0.2360554188489914\n",
            "252 0.22521385550498962\n",
            "253 0.2148381471633911\n",
            "254 0.20496448874473572\n",
            "255 0.195614755153656\n",
            "256 0.1866728961467743\n",
            "257 0.1781664937734604\n",
            "258 0.1699817031621933\n",
            "259 0.16219381988048553\n",
            "260 0.1547972410917282\n",
            "261 0.14771334826946259\n",
            "262 0.14097318053245544\n",
            "263 0.13457490503787994\n",
            "264 0.12844005227088928\n",
            "265 0.12260237336158752\n",
            "266 0.11703294515609741\n",
            "267 0.11171375215053558\n",
            "268 0.10664176940917969\n",
            "269 0.10183201730251312\n",
            "270 0.09716340899467468\n",
            "271 0.09278276562690735\n",
            "272 0.08857979625463486\n",
            "273 0.08457650244235992\n",
            "274 0.08075694739818573\n",
            "275 0.0770939439535141\n",
            "276 0.07361310720443726\n",
            "277 0.07027919590473175\n",
            "278 0.06715375185012817\n",
            "279 0.06411384046077728\n",
            "280 0.061245396733284\n",
            "281 0.058469466865062714\n",
            "282 0.0558389350771904\n",
            "283 0.05333450436592102\n",
            "284 0.050933320075273514\n",
            "285 0.04865250363945961\n",
            "286 0.04647824168205261\n",
            "287 0.04438690468668938\n",
            "288 0.04239371418952942\n",
            "289 0.040512893348932266\n",
            "290 0.03869858384132385\n",
            "291 0.03696996346116066\n",
            "292 0.03531496226787567\n",
            "293 0.0337488129734993\n",
            "294 0.03225326910614967\n",
            "295 0.03083495795726776\n",
            "296 0.029450921341776848\n",
            "297 0.02813740447163582\n",
            "298 0.026881935074925423\n",
            "299 0.02569311298429966\n",
            "300 0.024546246975660324\n",
            "301 0.023466691374778748\n",
            "302 0.022428372874855995\n",
            "303 0.021433277055621147\n",
            "304 0.020502593368291855\n",
            "305 0.019587675109505653\n",
            "306 0.01872779242694378\n",
            "307 0.017906159162521362\n",
            "308 0.017120972275733948\n",
            "309 0.016357164829969406\n",
            "310 0.01564420759677887\n",
            "311 0.014970085583627224\n",
            "312 0.014314968138933182\n",
            "313 0.013682384043931961\n",
            "314 0.013090269640088081\n",
            "315 0.01251839566975832\n",
            "316 0.011970006860792637\n",
            "317 0.011454444378614426\n",
            "318 0.010961595922708511\n",
            "319 0.010485077276825905\n",
            "320 0.01003567036241293\n",
            "321 0.009604229591786861\n",
            "322 0.009195514023303986\n",
            "323 0.0087948739528656\n",
            "324 0.008422057144343853\n",
            "325 0.008062735199928284\n",
            "326 0.007716172840446234\n",
            "327 0.007391497492790222\n",
            "328 0.007076883688569069\n",
            "329 0.006778226234018803\n",
            "330 0.006491472013294697\n",
            "331 0.006218248046934605\n",
            "332 0.005955216940492392\n",
            "333 0.005711215082556009\n",
            "334 0.005471134092658758\n",
            "335 0.005238847807049751\n",
            "336 0.005021112505346537\n",
            "337 0.004818625282496214\n",
            "338 0.004620225168764591\n",
            "339 0.004429277498275042\n",
            "340 0.004242124501615763\n",
            "341 0.004069272428750992\n",
            "342 0.003905033925548196\n",
            "343 0.0037484446074813604\n",
            "344 0.0035981694236397743\n",
            "345 0.003450192976742983\n",
            "346 0.003315543755888939\n",
            "347 0.0031839068979024887\n",
            "348 0.0030562367755919695\n",
            "349 0.002934852382168174\n",
            "350 0.002817709930241108\n",
            "351 0.002704320941120386\n",
            "352 0.002599135972559452\n",
            "353 0.0024990278761833906\n",
            "354 0.002404723782092333\n",
            "355 0.002312883734703064\n",
            "356 0.002222769893705845\n",
            "357 0.0021388265304267406\n",
            "358 0.002057482488453388\n",
            "359 0.0019784262403845787\n",
            "360 0.00190616468898952\n",
            "361 0.0018350461032241583\n",
            "362 0.001768129295669496\n",
            "363 0.0017033573240041733\n",
            "364 0.0016426118090748787\n",
            "365 0.0015839427942410111\n",
            "366 0.001524711842648685\n",
            "367 0.0014694430865347385\n",
            "368 0.0014189964858815074\n",
            "369 0.0013674634974449873\n",
            "370 0.001314909546636045\n",
            "371 0.001270358101464808\n",
            "372 0.0012271357700228691\n",
            "373 0.0011839648941531777\n",
            "374 0.0011414710897952318\n",
            "375 0.0011025030398741364\n",
            "376 0.0010661170817911625\n",
            "377 0.0010307703632861376\n",
            "378 0.000996422953903675\n",
            "379 0.000963908270932734\n",
            "380 0.0009316600626334548\n",
            "381 0.0009008794440887868\n",
            "382 0.0008708438253961504\n",
            "383 0.0008423086837865412\n",
            "384 0.0008158974815160036\n",
            "385 0.0007892423309385777\n",
            "386 0.0007646384183317423\n",
            "387 0.0007400683825835586\n",
            "388 0.0007162063266150653\n",
            "389 0.0006942070322111249\n",
            "390 0.0006739689270034432\n",
            "391 0.0006514544365927577\n",
            "392 0.0006326648872345686\n",
            "393 0.0006128099630586803\n",
            "394 0.0005936347297392786\n",
            "395 0.0005779869970865548\n",
            "396 0.0005607593338936567\n",
            "397 0.0005444015259854496\n",
            "398 0.0005289764958433807\n",
            "399 0.000513489474542439\n",
            "400 0.0004991904133930802\n",
            "401 0.00048546871403232217\n",
            "402 0.0004719069111160934\n",
            "403 0.00045894578215666115\n",
            "404 0.0004476701724343002\n",
            "405 0.00043461634777486324\n",
            "406 0.00042376911733299494\n",
            "407 0.00041234190575778484\n",
            "408 0.0004006712988484651\n",
            "409 0.0003894236870110035\n",
            "410 0.0003793216310441494\n",
            "411 0.000369529880117625\n",
            "412 0.0003606912796385586\n",
            "413 0.00035100526292808354\n",
            "414 0.00034239646629430354\n",
            "415 0.0003332967753522098\n",
            "416 0.00032484240364283323\n",
            "417 0.00031639792723581195\n",
            "418 0.0003088722296524793\n",
            "419 0.0003018330316990614\n",
            "420 0.0002938471734523773\n",
            "421 0.00028648978332057595\n",
            "422 0.00027957704151049256\n",
            "423 0.00027297623455524445\n",
            "424 0.00026771004195325077\n",
            "425 0.0002611901727505028\n",
            "426 0.0002547644544392824\n",
            "427 0.0002491571067366749\n",
            "428 0.00024328281870111823\n",
            "429 0.00023788705584593117\n",
            "430 0.0002327160764252767\n",
            "431 0.0002276396262459457\n",
            "432 0.00022263682330958545\n",
            "433 0.0002174289693357423\n",
            "434 0.00021276454208418727\n",
            "435 0.0002081370330415666\n",
            "436 0.0002041374973487109\n",
            "437 0.0001996908977162093\n",
            "438 0.00019522756338119507\n",
            "439 0.0001908146368805319\n",
            "440 0.0001871431595645845\n",
            "441 0.00018332105537410825\n",
            "442 0.0001796194410417229\n",
            "443 0.00017553885118104517\n",
            "444 0.00017265455971937627\n",
            "445 0.00016926677199080586\n",
            "446 0.0001660895359236747\n",
            "447 0.00016282318392768502\n",
            "448 0.00015976314898580313\n",
            "449 0.00015660493227187544\n",
            "450 0.00015327706933021545\n",
            "451 0.00015000146231614053\n",
            "452 0.0001474170567234978\n",
            "453 0.00014439875667449087\n",
            "454 0.00014143416774459183\n",
            "455 0.00013919558841735125\n",
            "456 0.0001362460752716288\n",
            "457 0.00013404582568909973\n",
            "458 0.0001314974360866472\n",
            "459 0.0001288891362491995\n",
            "460 0.00012672628508880734\n",
            "461 0.0001244876184500754\n",
            "462 0.0001223705621669069\n",
            "463 0.00012070105731254444\n",
            "464 0.00011890816676896065\n",
            "465 0.00011640031152637675\n",
            "466 0.00011456156789790839\n",
            "467 0.00011307757813483477\n",
            "468 0.00011069377069361508\n",
            "469 0.00010928646952379495\n",
            "470 0.00010723745072027668\n",
            "471 0.00010511238360777497\n",
            "472 0.0001033014414133504\n",
            "473 0.00010182149708271027\n",
            "474 0.00010004645446315408\n",
            "475 9.818492253543809e-05\n",
            "476 9.69985849224031e-05\n",
            "477 9.542213228996843e-05\n",
            "478 9.402336581842974e-05\n",
            "479 9.25231579458341e-05\n",
            "480 9.082420729100704e-05\n",
            "481 8.941147825680673e-05\n",
            "482 8.812146552372724e-05\n",
            "483 8.680651080794632e-05\n",
            "484 8.537278336007148e-05\n",
            "485 8.437276119366288e-05\n",
            "486 8.311314741149545e-05\n",
            "487 8.17432373878546e-05\n",
            "488 8.053574129007757e-05\n",
            "489 7.945358083816245e-05\n",
            "490 7.807163638062775e-05\n",
            "491 7.721616566414014e-05\n",
            "492 7.620333053637296e-05\n",
            "493 7.490910502383485e-05\n",
            "494 7.41044495953247e-05\n",
            "495 7.316056144190952e-05\n",
            "496 7.202778942883015e-05\n",
            "497 7.120740337995812e-05\n",
            "498 6.987494271015748e-05\n",
            "499 6.902142195031047e-05\n"
          ],
          "name": "stdout"
        }
      ]
    },
    {
      "cell_type": "markdown",
      "metadata": {
        "id": "ycwxAPHZLNST",
        "colab_type": "text"
      },
      "source": [
        "\n",
        "\n",
        "---\n",
        "## Question 12\n",
        "\n",
        "In the code above, why do we have 2 in '2.0*(y_pred - y)`?\n",
        "\n",
        "Ans : It is the derivative of the loss\n",
        "\n",
        "## Question 13\n",
        "In the code above, what does `grad_h[h < 0] = 0` signify?\n",
        "\n",
        "Ans : It is the lower clip of relu, i.e any value that is less than 0 will be set to 0\n",
        "\n",
        "## Question 14\n",
        "In the code above, how many \"epochs\" have we trained the model for? \n",
        "\n",
        "Ans : Size of the dataset is not given. Considering the size of the dataset to be equal to the size of the batch, the number of epochs will be 500.\n",
        "\n",
        "## Question 15\n",
        "In the code above, if we take the trained model, and run it on fresh  inputs, the trained model will be able to predict fresh output with high accuracy. \n",
        "\n",
        "Ans : What we have seen above is just the training accuracy. Since the model has not been evaluated on any holdout data and so the generalization ability of the model cannot be guaranteed.\n",
        "\n",
        "## Question 16\n",
        "In the code above, if we dont use clone in `grad_h = grad_h_relu.clone()` the model will still train without any issues. \n",
        "\n",
        "Ans : Yes"
      ]
    },
    {
      "cell_type": "code",
      "metadata": {
        "id": "PnJ49I07JJI6",
        "colab_type": "code",
        "colab": {}
      },
      "source": [
        ""
      ],
      "execution_count": 0,
      "outputs": []
    }
  ]
}