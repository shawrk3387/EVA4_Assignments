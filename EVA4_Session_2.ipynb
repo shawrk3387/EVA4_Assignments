{
  "nbformat": 4,
  "nbformat_minor": 0,
  "metadata": {
    "colab": {
      "name": "EVA4 - Session 2.ipynb",
      "provenance": [],
      "include_colab_link": true
    },
    "kernelspec": {
      "name": "python3",
      "display_name": "Python 3"
    },
    "accelerator": "GPU"
  },
  "cells": [
    {
      "cell_type": "markdown",
      "metadata": {
        "id": "view-in-github",
        "colab_type": "text"
      },
      "source": [
        "<a href=\"https://colab.research.google.com/github/shawrk3387/EVA4_Assignments/blob/master/EVA4_Session_2.ipynb\" target=\"_parent\"><img src=\"https://colab.research.google.com/assets/colab-badge.svg\" alt=\"Open In Colab\"/></a>"
      ]
    },
    {
      "cell_type": "markdown",
      "metadata": {
        "id": "oTRqvDyePi_J",
        "colab_type": "text"
      },
      "source": [
        "#Import statements"
      ]
    },
    {
      "cell_type": "code",
      "metadata": {
        "id": "0m2JWFliFfKT",
        "colab_type": "code",
        "outputId": "e713c585-d2c7-47e3-97e4-7a45ebdd50e1",
        "colab": {
          "base_uri": "https://localhost:8080/",
          "height": 34
        }
      },
      "source": [
        "from __future__ import print_function\n",
        "import torch\n",
        "import torch.nn as nn\n",
        "import torch.nn.functional as F\n",
        "import torch.optim as optim\n",
        "from torchvision import datasets, transforms\n",
        "!pip install torchsummary\n",
        "from torchsummary import summary\n",
        "from tqdm import tqdm"
      ],
      "execution_count": 13,
      "outputs": [
        {
          "output_type": "stream",
          "text": [
            "Requirement already satisfied: torchsummary in /usr/local/lib/python3.6/dist-packages (1.5.1)\n"
          ],
          "name": "stdout"
        }
      ]
    },
    {
      "cell_type": "markdown",
      "metadata": {
        "id": "ys647cKjPrG9",
        "colab_type": "text"
      },
      "source": [
        "#Defining the Deep Net Structure (Layers and Computational Graph)"
      ]
    },
    {
      "cell_type": "code",
      "metadata": {
        "id": "h_Cx9q2QFgM7",
        "colab_type": "code",
        "colab": {}
      },
      "source": [
        "class Net(nn.Module):\n",
        "    def __init__(self):\n",
        "        super(Net, self).__init__()\n",
        "        self.conv1 = nn.Conv2d(1, 32, 3, padding=1)\n",
        "        # Input - [128, 1, 28, 28], Output - [128, 32, 28, 28], RF - [3*3]\n",
        "        self.conv2 = nn.Conv2d(32, 64, 3, padding=1)\n",
        "        # Input - [128, 32, 28, 28], Output - [128, 64, 28, 28], RF - [5*5]\n",
        "        self.pool1 = nn.MaxPool2d(2, 2)\n",
        "        # Input - [128, 64, 28, 28], Output - [128, 64, 14, 14], RF - [10*10]\n",
        "        self.conv3 = nn.Conv2d(64, 128, 3, padding=1)\n",
        "        # Input - [128, 64, 14, 14], Output - [128, 128, 14, 14], RF - [12*12]\n",
        "        self.conv4 = nn.Conv2d(128, 256, 3, padding=1)\n",
        "        # Input - [128, 128, 14, 14], Output - [128, 256, 14, 14], RF - [14*14]\n",
        "        self.pool2 = nn.MaxPool2d(2, 2)\n",
        "        # Input - [128, 256, 14, 14], Output - [128, 256, 7, 7], RF - [28*28]\n",
        "        self.conv5 = nn.Conv2d(256, 512, 3)\n",
        "        # Input - [128, 256, 7, 7], Output - [128, 128, 5, 5], RF - [30*30]\n",
        "        self.conv6 = nn.Conv2d(512, 1024, 3)\n",
        "        # Input - [128, 128, 5, 5], Output - [128, 64, 3, 3], RF - [32*32]\n",
        "        self.conv7 = nn.Conv2d(1024, 10, 3)\n",
        "        # Input - [128, 64, 3, 3], Output - [128, 10, 1, 1], RF - [34*34]\n",
        "\n",
        "    def forward(self, x):\n",
        "        x = self.pool1(F.relu(self.conv2(F.relu(self.conv1(x)))))\n",
        "        x = self.pool2(F.relu(self.conv4(F.relu(self.conv3(x)))))\n",
        "        x = F.relu(self.conv6(F.relu(self.conv5(x))))\n",
        "        x = self.conv7(x)\n",
        "        x = x.view(-1, 10)\n",
        "        return F.log_softmax(x, dim=1)"
      ],
      "execution_count": 0,
      "outputs": []
    },
    {
      "cell_type": "markdown",
      "metadata": {
        "id": "xg9b3MIEQB3Y",
        "colab_type": "text"
      },
      "source": [
        "#Setting up the model to run on GPU if available otherwise set it to run on CPU"
      ]
    },
    {
      "cell_type": "code",
      "metadata": {
        "colab_type": "code",
        "id": "xdydjYTZFyi3",
        "outputId": "ee216493-1ecc-4997-b4b1-1cdf99455d09",
        "colab": {
          "base_uri": "https://localhost:8080/",
          "height": 391
        }
      },
      "source": [
        "use_cuda = torch.cuda.is_available()\n",
        "device = torch.device(\"cuda\" if use_cuda else \"cpu\") \n",
        "model = Net().to(device)\n",
        "summary(model, input_size=(1, 28, 28))  # Display the model summary"
      ],
      "execution_count": 15,
      "outputs": [
        {
          "output_type": "stream",
          "text": [
            "----------------------------------------------------------------\n",
            "        Layer (type)               Output Shape         Param #\n",
            "================================================================\n",
            "            Conv2d-1           [-1, 32, 28, 28]             320\n",
            "            Conv2d-2           [-1, 64, 28, 28]          18,496\n",
            "         MaxPool2d-3           [-1, 64, 14, 14]               0\n",
            "            Conv2d-4          [-1, 128, 14, 14]          73,856\n",
            "            Conv2d-5          [-1, 256, 14, 14]         295,168\n",
            "         MaxPool2d-6            [-1, 256, 7, 7]               0\n",
            "            Conv2d-7            [-1, 512, 5, 5]       1,180,160\n",
            "            Conv2d-8           [-1, 1024, 3, 3]       4,719,616\n",
            "            Conv2d-9             [-1, 10, 1, 1]          92,170\n",
            "================================================================\n",
            "Total params: 6,379,786\n",
            "Trainable params: 6,379,786\n",
            "Non-trainable params: 0\n",
            "----------------------------------------------------------------\n",
            "Input size (MB): 0.00\n",
            "Forward/backward pass size (MB): 1.51\n",
            "Params size (MB): 24.34\n",
            "Estimated Total Size (MB): 25.85\n",
            "----------------------------------------------------------------\n"
          ],
          "name": "stdout"
        }
      ]
    },
    {
      "cell_type": "markdown",
      "metadata": {
        "id": "NOQhow1PRIDr",
        "colab_type": "text"
      },
      "source": [
        "# Initializing the train_loader and test_loader iterators to fetch training and testing data"
      ]
    },
    {
      "cell_type": "code",
      "metadata": {
        "id": "DqTWLaM5GHgH",
        "colab_type": "code",
        "colab": {}
      },
      "source": [
        "torch.manual_seed(1)\n",
        "batch_size = 128\n",
        "\n",
        "kwargs = {'num_workers': 1, 'pin_memory': True} if use_cuda else {}\n",
        "\n",
        "'''transforms.Normalize: Normalizes an image with mean and standard deviation\n",
        "0.1307 is the calculated global mean and 0.3081 is the calculated global standard deviation\n",
        "of MNIST dataset'''\n",
        "train_loader = torch.utils.data.DataLoader(\n",
        "    datasets.MNIST('../data', train=True, download=True,\n",
        "                    transform=transforms.Compose([\n",
        "                        transforms.ToTensor(),\n",
        "                        transforms.Normalize((0.1307,), (0.3081,))\n",
        "                    ])), batch_size=batch_size, shuffle=True, **kwargs)\n",
        "\n",
        "test_loader = torch.utils.data.DataLoader(\n",
        "    datasets.MNIST('../data', train=False, transform=transforms.Compose([\n",
        "                        transforms.ToTensor(), transforms.Normalize((0.1307,), (0.3081,))\n",
        "                    ])), batch_size=batch_size, shuffle=True, **kwargs)\n"
      ],
      "execution_count": 0,
      "outputs": []
    },
    {
      "cell_type": "markdown",
      "metadata": {
        "id": "-ILBcPeBTXMd",
        "colab_type": "text"
      },
      "source": [
        "# Model training and testing"
      ]
    },
    {
      "cell_type": "code",
      "metadata": {
        "id": "8fDefDhaFlwH",
        "colab_type": "code",
        "colab": {}
      },
      "source": [
        "def train(model, device, train_loader, optimizer, epoch):\n",
        "    model.train()\n",
        "    pbar = tqdm(train_loader)\n",
        "    for batch_idx, (data, target) in enumerate(pbar):\n",
        "        data, target = data.to(device), target.to(device) # train image tensor and train label tensor\n",
        "        optimizer.zero_grad() # Clears the gradient after optimizing an input tensor\n",
        "        output = model(data) # training output\n",
        "        loss = F.nll_loss(output, target) # training loss\n",
        "        loss.backward() # back prop initiated to calculate the gradient of the loss w.r.t the weights\n",
        "        optimizer.step() # optimizer starts updating the weights using the gradients calculated during back prop\n",
        "        pbar.set_description(desc= f'loss={loss.item()} batch_id={batch_idx}') # Creates a progress bar to help track the training process\n",
        "\n",
        "def test(model, device, test_loader):\n",
        "    model.eval()\n",
        "    test_loss = 0\n",
        "    correct = 0\n",
        "    with torch.no_grad():\n",
        "        for data, target in test_loader:\n",
        "            data, target = data.to(device), target.to(device) # test image tensor and test label tensor\n",
        "            output = model(data) # test output\n",
        "            test_loss += F.nll_loss(output, target, reduction='sum').item()  # sum up batch loss\n",
        "            pred = output.argmax(dim=1, keepdim=True)  # get the index of the max log-probability\n",
        "            correct += pred.eq(target.view_as(pred)).sum().item()\n",
        "\n",
        "    test_loss /= len(test_loader.dataset)\n",
        "\n",
        "    print('\\nTest set: Average loss: {:.4f}, Accuracy: {}/{} ({:.0f}%)\\n'.format(\n",
        "        test_loss, correct, len(test_loader.dataset),\n",
        "        100. * correct / len(test_loader.dataset)))"
      ],
      "execution_count": 0,
      "outputs": []
    },
    {
      "cell_type": "code",
      "metadata": {
        "id": "MMWbLWO6FuHb",
        "colab_type": "code",
        "outputId": "deeb27a1-1483-43ec-9d0f-1a0c067c4dcc",
        "colab": {
          "base_uri": "https://localhost:8080/",
          "height": 85
        }
      },
      "source": [
        "model = Net().to(device) # Loading the model to the processing device\n",
        "optimizer = optim.SGD(model.parameters(), lr=0.01, momentum=0.9) # defining the optimizer\n",
        "\n",
        "for epoch in range(1, 2): \n",
        "    train(model, device, train_loader, optimizer, epoch)\n",
        "    test(model, device, test_loader)"
      ],
      "execution_count": 18,
      "outputs": [
        {
          "output_type": "stream",
          "text": [
            "loss=0.03253614902496338 batch_id=468: 100%|██████████| 469/469 [00:18<00:00, 25.08it/s]\n"
          ],
          "name": "stderr"
        },
        {
          "output_type": "stream",
          "text": [
            "\n",
            "Test set: Average loss: 0.0667, Accuracy: 9794/10000 (98%)\n",
            "\n"
          ],
          "name": "stdout"
        }
      ]
    },
    {
      "cell_type": "code",
      "metadata": {
        "id": "So5uk4EkHW6R",
        "colab_type": "code",
        "colab": {}
      },
      "source": [
        ""
      ],
      "execution_count": 0,
      "outputs": []
    }
  ]
}